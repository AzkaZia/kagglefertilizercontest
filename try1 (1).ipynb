{
 "cells": [
  {
   "cell_type": "code",
   "execution_count": 1,
   "id": "333f1f47-5e56-45c1-832e-b84d5dac22ac",
   "metadata": {},
   "outputs": [],
   "source": [
    "from sklearn.preprocessing import LabelEncoder\n",
    "from catboost import CatBoostClassifier\n",
    "from sklearn.model_selection import train_test_split\n",
    "import numpy as np\n",
    "import pandas as pd"
   ]
  },
  {
   "cell_type": "code",
   "execution_count": 2,
   "id": "bdd27281-f9db-48c4-b7a1-a5b7ba02cffd",
   "metadata": {},
   "outputs": [],
   "source": [
    "df1 = pd.read_csv(\"train.csv\")\n",
    "df2 = pd.read_csv(\"test.csv\")\n",
    "if 'Fertilizer Name' not in df2.columns:\n",
    "    df2['Fertilizer Name'] = 0\n",
    "\n",
    "data = pd.concat([df1, df2], axis=0)\n",
    "data = data.set_index(\"id\")"
   ]
  },
  {
   "cell_type": "code",
   "execution_count": 3,
   "id": "1436c0b8-dede-410e-a72e-66b3453083b7",
   "metadata": {},
   "outputs": [],
   "source": [
    "df2 = pd.read_csv(\"test.csv\")\n",
    "test_ids = df2['id'].copy() "
   ]
  },
  {
   "cell_type": "code",
   "execution_count": 4,
   "id": "776cbc02-0449-4776-86f9-5e45583d7670",
   "metadata": {},
   "outputs": [],
   "source": [
    "soil_mapping = {'Black': 1, 'Clayey': 2, 'Loamy': 3, 'Red': 4, 'Sandy': 5}\n",
    "crop_mapping = {'Barley': 1, 'Cotton': 2, 'Ground Nuts': 3, 'Maize': 4, 'Millets': 5,\n",
    "                'Oil seeds': 6, 'Paddy': 7, 'Pulses': 8, 'Sugarcane': 9, 'Tobacco': 10, 'Wheat': 11}\n",
    "\n",
    "data['Soil Type'] = data['Soil Type'].map(soil_mapping)\n",
    "data['Crop Type'] = data['Crop Type'].map(crop_mapping)\n",
    "\n",
    "# Re-split\n",
    "df1 = data.loc[df1.index]\n",
    "df2 = data.loc[df2.index]"
   ]
  },
  {
   "cell_type": "code",
   "execution_count": 5,
   "id": "52813372-f88b-4a42-abfb-e9fcb6186403",
   "metadata": {},
   "outputs": [],
   "source": [
    "le = LabelEncoder()\n",
    "y = le.fit_transform(df1['Fertilizer Name'])\n",
    "\n",
    "X = df1.drop('Fertilizer Name', axis=1)\n",
    "X_train, X_test, y_train, y_test = train_test_split(X, y, test_size=0.2, random_state=42)"
   ]
  },
  {
   "cell_type": "code",
   "execution_count": 8,
   "id": "d16aa368-435f-4dda-932c-5eee410b11d4",
   "metadata": {},
   "outputs": [],
   "source": [
    "categorical_features = ['Soil Type', 'Crop Type']\n",
    "\n",
    "model = CatBoostClassifier(\n",
    "    iterations=500,\n",
    "    learning_rate=0.1,\n",
    "    depth=6,\n",
    "    loss_function='MultiClass',\n",
    "    eval_metric='TotalF1',\n",
    "    cat_features=categorical_features,\n",
    "    verbose=100,\n",
    "    random_state=42\n",
    ")\n"
   ]
  },
  {
   "cell_type": "code",
   "execution_count": 9,
   "id": "4dd24642-12ff-4d1c-91c8-61fd66f617c7",
   "metadata": {},
   "outputs": [
    {
     "name": "stdout",
     "output_type": "stream",
     "text": [
      "0:\tlearn: 0.1022067\ttotal: 2.34s\tremaining: 19m 29s\n",
      "100:\tlearn: 0.1575617\ttotal: 5m 31s\tremaining: 21m 51s\n",
      "200:\tlearn: 0.1752424\ttotal: 12m 23s\tremaining: 18m 26s\n",
      "300:\tlearn: 0.1868602\ttotal: 19m 24s\tremaining: 12m 49s\n",
      "400:\tlearn: 0.1936800\ttotal: 25m 13s\tremaining: 6m 13s\n",
      "499:\tlearn: 0.1995091\ttotal: 31m 7s\tremaining: 0us\n"
     ]
    },
    {
     "data": {
      "text/plain": [
       "<catboost.core.CatBoostClassifier at 0x1c48a630860>"
      ]
     },
     "execution_count": 9,
     "metadata": {},
     "output_type": "execute_result"
    }
   ],
   "source": [
    "model.fit(df1.drop('Fertilizer Name', axis=1), df1['Fertilizer Name'])"
   ]
  },
  {
   "cell_type": "code",
   "execution_count": 11,
   "id": "d6b8f883-5880-498b-a9a0-8406cbe807d5",
   "metadata": {},
   "outputs": [
    {
     "ename": "NameError",
     "evalue": "name 'y_test_indices' is not defined",
     "output_type": "error",
     "traceback": [
      "\u001b[1;31m---------------------------------------------------------------------------\u001b[0m",
      "\u001b[1;31mNameError\u001b[0m                                 Traceback (most recent call last)",
      "Cell \u001b[1;32mIn[11], line 13\u001b[0m\n\u001b[0;32m     10\u001b[0m     \u001b[38;5;28;01mreturn\u001b[39;00m map_score \u001b[38;5;241m/\u001b[39m \u001b[38;5;28mlen\u001b[39m(y_true)\n\u001b[0;32m     12\u001b[0m \u001b[38;5;66;03m# Evaluate\u001b[39;00m\n\u001b[1;32m---> 13\u001b[0m map3_score \u001b[38;5;241m=\u001b[39m map_at_3(y_test_indices, y_pred_proba)\n\u001b[0;32m     14\u001b[0m \u001b[38;5;28mprint\u001b[39m(\u001b[38;5;124mf\u001b[39m\u001b[38;5;124m\"\u001b[39m\u001b[38;5;124mMAP@3 Score (CatBoost): \u001b[39m\u001b[38;5;132;01m{\u001b[39;00mmap3_score\u001b[38;5;132;01m:\u001b[39;00m\u001b[38;5;124m.4f\u001b[39m\u001b[38;5;132;01m}\u001b[39;00m\u001b[38;5;124m\"\u001b[39m)\n",
      "\u001b[1;31mNameError\u001b[0m: name 'y_test_indices' is not defined"
     ]
    }
   ],
   "source": [
    "def map_at_3(y_true, y_pred_proba):\n",
    "    top_3 = np.argsort(y_pred_proba, axis=1)[:, -3:][:, ::-1]\n",
    "    map_score = 0.0\n",
    "    for i in range(len(y_true)):\n",
    "        true_label = y_true[i]\n",
    "        predicted = top_3[i]\n",
    "        if true_label in predicted:\n",
    "            rank = np.where(predicted == true_label)[0][0] + 1\n",
    "            map_score += 1 / rank\n",
    "    return map_score / len(y_true)\n",
    "\n",
    "# Evaluate\n",
    "map3_score = map_at_3(y_test_indices, y_pred_proba)\n",
    "print(f\"MAP@3 Score (CatBoost): {map3_score:.4f}\")"
   ]
  },
  {
   "cell_type": "code",
   "execution_count": 13,
   "id": "877607f7-a6b5-4721-924d-404daf21c8fc",
   "metadata": {},
   "outputs": [],
   "source": [
    "test_features = df2.drop('Fertilizer Name', axis=1)\n",
    "pred_proba = model.predict_proba(test_features)\n",
    "top_3_indices = np.argsort(pred_proba, axis=1)[:, -3:][:, ::-1]\n",
    "top_3_labels = model.classes_[top_3_indices]\n",
    "\n",
    "submission_preds = [' '.join(row) for row in top_3_labels]\n",
    "submission = pd.DataFrame({\n",
    "    'id': test_ids,  # or test_ids if you saved them earlier\n",
    "    'Fertilizer Name': submission_preds\n",
    "})\n",
    "\n",
    "submission.to_csv(\"submission.csv\", index=False)"
   ]
  }
 ],
 "metadata": {
  "kernelspec": {
   "display_name": "Python 3 (ipykernel)",
   "language": "python",
   "name": "python3"
  },
  "language_info": {
   "codemirror_mode": {
    "name": "ipython",
    "version": 3
   },
   "file_extension": ".py",
   "mimetype": "text/x-python",
   "name": "python",
   "nbconvert_exporter": "python",
   "pygments_lexer": "ipython3",
   "version": "3.12.4"
  }
 },
 "nbformat": 4,
 "nbformat_minor": 5
}

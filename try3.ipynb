{
 "cells": [
  {
   "cell_type": "code",
   "execution_count": 1,
   "id": "7fd4e996-a20e-4d1d-9173-da6f04af3631",
   "metadata": {},
   "outputs": [],
   "source": [
    "import pandas as pd\n",
    "import numpy as np\n",
    "from sklearn.model_selection import cross_val_score\n",
    "from sklearn.preprocessing import LabelEncoder\n",
    "from sklearn.metrics import top_k_accuracy_score\n",
    "from xgboost import XGBClassifier\n",
    "from lightgbm import LGBMClassifier\n",
    "from catboost import CatBoostClassifier"
   ]
  },
  {
   "cell_type": "code",
   "execution_count": 2,
   "id": "8c446233-4674-4f5e-93cf-6d0a1303c777",
   "metadata": {},
   "outputs": [],
   "source": [
    "df1 = pd.read_csv(\"train.csv\")\n",
    "df2 = pd.read_csv(\"test.csv\")\n",
    "\n",
    "df2[\"Fertilizer Name\"] = 0\n",
    "\n",
    "data = pd.concat([df1, df2], axis=0)\n",
    "data = data.set_index(\"id\")"
   ]
  },
  {
   "cell_type": "code",
   "execution_count": 3,
   "id": "b3ff4372-faf3-47ac-8fd7-93d5feac72f9",
   "metadata": {},
   "outputs": [],
   "source": [
    "soil_mapping = {'Black': 1, 'Clayey': 2, 'Loamy': 3, 'Red': 4, 'Sandy': 5}\n",
    "crop_mapping = {\n",
    "    'Barley': 1, 'Cotton': 2, 'Ground Nuts': 3, 'Maize': 4, 'Millets': 5,\n",
    "    'Oil seeds': 6, 'Paddy': 7, 'Pulses': 8, 'Sugarcane': 9, 'Tobacco': 10, 'Wheat': 11\n",
    "}\n",
    "data['Soil Type'] = data['Soil Type'].map(soil_mapping)\n",
    "data['Crop Type'] = data['Crop Type'].map(crop_mapping)\n",
    "\n",
    "df1 = data.loc[df1.index]\n",
    "df2 = data.loc[df2.index]"
   ]
  },
  {
   "cell_type": "code",
   "execution_count": 25,
   "id": "a0479013-f21c-4943-ae32-f634453d18a5",
   "metadata": {},
   "outputs": [],
   "source": [
    "X_train = df1.drop('Fertilizer Name', axis=1)\n",
    "y_train = df1['Fertilizer Name']\n",
    "X_test = df2.drop('Fertilizer Name', axis=1)\n",
    "\n",
    "le = LabelEncoder()\n",
    "y_train_enc = le.fit_transform(y_train)"
   ]
  },
  {
   "cell_type": "code",
   "execution_count": 28,
   "id": "b487385f-453a-4b76-af18-4f1fb1083ae4",
   "metadata": {},
   "outputs": [
    {
     "name": "stdout",
     "output_type": "stream",
     "text": [
      "0         750000\n",
      "1         750001\n",
      "2         750002\n",
      "3         750003\n",
      "4         750004\n",
      "           ...  \n",
      "249995    999995\n",
      "249996    999996\n",
      "249997    999997\n",
      "249998    999998\n",
      "249999    999999\n",
      "Name: id, Length: 250000, dtype: int64\n"
     ]
    }
   ],
   "source": [
    "test_ids = pd.read_csv(\"sample_submission.csv\")[\"id\"]\n",
    "print(test_ids)"
   ]
  },
  {
   "cell_type": "code",
   "execution_count": 7,
   "id": "01c6d913-40f6-45b0-8fa2-0f5b9d2e6fa9",
   "metadata": {},
   "outputs": [
    {
     "name": "stderr",
     "output_type": "stream",
     "text": [
      "D:\\Apps\\Anaconda\\Lib\\site-packages\\xgboost\\core.py:158: UserWarning: [14:32:10] WARNING: C:\\buildkite-agent\\builds\\buildkite-windows-cpu-autoscaling-group-i-0c55ff5f71b100e98-1\\xgboost\\xgboost-ci-windows\\src\\learner.cc:740: \n",
      "Parameters: { \"use_label_encoder\" } are not used.\n",
      "\n",
      "  warnings.warn(smsg, UserWarning)\n"
     ]
    }
   ],
   "source": [
    "xgb_model = XGBClassifier(eval_metric=\"mlogloss\", random_state=42)\n",
    "xgb_model.fit(X_train, y_train_enc)\n",
    "xgb_proba = xgb_model.predict_proba(X_test)"
   ]
  },
  {
   "cell_type": "code",
   "execution_count": 8,
   "id": "5c8f85df-eb1e-4e04-b44e-3bf0586e4634",
   "metadata": {
    "scrolled": true
   },
   "outputs": [
    {
     "name": "stdout",
     "output_type": "stream",
     "text": [
      "[LightGBM] [Warning] Found whitespace in feature_names, replace with underlines\n",
      "[LightGBM] [Info] Auto-choosing col-wise multi-threading, the overhead of testing was 0.041589 seconds.\n",
      "You can set `force_col_wise=true` to remove the overhead.\n",
      "[LightGBM] [Info] Total Bins 202\n",
      "[LightGBM] [Info] Number of data points in the train set: 750000, number of used features: 8\n",
      "[LightGBM] [Info] Start training from score -1.884866\n",
      "[LightGBM] [Info] Start training from score -1.880057\n",
      "[LightGBM] [Info] Start training from score -1.897538\n",
      "[LightGBM] [Info] Start training from score -1.911544\n",
      "[LightGBM] [Info] Start training from score -1.909121\n",
      "[LightGBM] [Info] Start training from score -2.067671\n",
      "[LightGBM] [Info] Start training from score -2.094845\n"
     ]
    }
   ],
   "source": [
    "lgb_model = LGBMClassifier(random_state=42)\n",
    "lgb_model.fit(X_train, y_train_enc)\n",
    "lgb_proba = lgb_model.predict_proba(X_test)"
   ]
  },
  {
   "cell_type": "code",
   "execution_count": 9,
   "id": "a2ee8c3e-1360-4b50-8123-4ebef04ef161",
   "metadata": {},
   "outputs": [],
   "source": [
    "cat_model = CatBoostClassifier(verbose=0, random_state=42)\n",
    "cat_model.fit(X_train, y_train)\n",
    "cat_proba = cat_model.predict_proba(X_test)"
   ]
  },
  {
   "cell_type": "code",
   "execution_count": 15,
   "id": "720971d4-a0cd-4554-9e41-04662614705b",
   "metadata": {},
   "outputs": [
    {
     "name": "stdout",
     "output_type": "stream",
     "text": [
      "\n",
      " best weights: XGB=0.50, LGB=0.00, CAT=0.50\n",
      "best map@3 score: 0.5835\n"
     ]
    }
   ],
   "source": [
    "best_score = 0\n",
    "best_weights = (1/3, 1/3, 1/3)\n",
    "\n",
    "for w1 in np.arange(0, 1.1, 0.1):\n",
    "    for w2 in np.arange(0, 1.1 - w1, 0.1):\n",
    "        w3 = 1.0 - w1 - w2\n",
    "        blended = w1 * xgb_proba + w2 * lgb_proba + w3 * cat_proba\n",
    "        top3 = np.argsort(blended, axis=1)[:, -3:][:, ::-1]\n",
    "        score = top_k_accuracy_score(\n",
    "            y_train_enc[:len(blended)],\n",
    "            blended,\n",
    "            k=3,\n",
    "            labels=np.arange(blended.shape[1])\n",
    "        )\n",
    "        if score > best_score:\n",
    "            best_score = score\n",
    "            best_weights = (w1, w2, w3)\n",
    "\n",
    "print(f\"\\n best weights: XGB={best_weights[0]:.2f}, LGB={best_weights[1]:.2f}, CAT={best_weights[2]:.2f}\")\n",
    "print(f\"best map@3 score: {best_score:.4f}\")"
   ]
  },
  {
   "cell_type": "code",
   "execution_count": 18,
   "id": "e8a3f86d-ea5a-411f-9718-4be53beb1918",
   "metadata": {},
   "outputs": [
    {
     "name": "stdout",
     "output_type": "stream",
     "text": [
      "Max index in top_3_indices: 6\n",
      "Number of classes in label encoder: 7\n",
      "xgb_proba: (250000, 7)\n",
      "lgb_proba: (250000, 7)\n",
      "cat_proba: (250000, 7)\n"
     ]
    }
   ],
   "source": [
    "print(\"Max index in top_3_indices:\", top_3_indices.max())\n",
    "print(\"Number of classes in label encoder:\", len(le.classes_))\n",
    "\n",
    "print(\"xgb_proba:\", xgb_proba.shape)\n",
    "print(\"lgb_proba:\", lgb_proba.shape)\n",
    "print(\"cat_proba:\", cat_proba.shape)"
   ]
  },
  {
   "cell_type": "code",
   "execution_count": 21,
   "id": "58f6915c-a51c-4b43-824c-ede6b579ba87",
   "metadata": {},
   "outputs": [
    {
     "name": "stdout",
     "output_type": "stream",
     "text": [
      "Index([     0,      1,      2,      3,      4,      5,      6,      7,      8,\n",
      "            9,\n",
      "       ...\n",
      "       249990, 249991, 249992, 249993, 249994, 249995, 249996, 249997, 249998,\n",
      "       249999],\n",
      "      dtype='int64', length=250000)\n"
     ]
    }
   ],
   "source": [
    "print(test_ids)"
   ]
  },
  {
   "cell_type": "code",
   "execution_count": 29,
   "id": "a20ef497-d23f-4b3a-bbe2-9e6cd55138e5",
   "metadata": {},
   "outputs": [],
   "source": [
    "final_blend = (\n",
    "    best_weights[0] * xgb_proba +\n",
    "    best_weights[1] * lgb_proba +\n",
    "    best_weights[2] * cat_proba\n",
    ")\n",
    "\n",
    "top_3_flat = top_3_indices.ravel()  \n",
    "top_3_labels_flat = le.inverse_transform(top_3_flat)  \n",
    "top_3_labels = top_3_labels_flat.reshape(top_3_indices.shape)\n",
    "\n",
    "submission = pd.DataFrame({\n",
    "    'id': test_ids,\n",
    "    'Fertilizer Name': [' '.join(row) for row in top_3_labels]\n",
    "})\n",
    "submission.to_csv(\"submission_blended.csv\", index=False)"
   ]
  }
 ],
 "metadata": {
  "kernelspec": {
   "display_name": "Python 3 (ipykernel)",
   "language": "python",
   "name": "python3"
  },
  "language_info": {
   "codemirror_mode": {
    "name": "ipython",
    "version": 3
   },
   "file_extension": ".py",
   "mimetype": "text/x-python",
   "name": "python",
   "nbconvert_exporter": "python",
   "pygments_lexer": "ipython3",
   "version": "3.12.4"
  }
 },
 "nbformat": 4,
 "nbformat_minor": 5
}

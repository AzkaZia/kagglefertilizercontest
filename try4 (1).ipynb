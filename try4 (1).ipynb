{
 "cells": [
  {
   "cell_type": "code",
   "execution_count": 1,
   "id": "333f1f47-5e56-45c1-832e-b84d5dac22ac",
   "metadata": {},
   "outputs": [],
   "source": [
    "from sklearn.preprocessing import LabelEncoder\n",
    "from catboost import CatBoostClassifier\n",
    "from sklearn.model_selection import train_test_split\n",
    "import numpy as np\n",
    "import pandas as pd"
   ]
  },
  {
   "cell_type": "code",
   "execution_count": 2,
   "id": "bdd27281-f9db-48c4-b7a1-a5b7ba02cffd",
   "metadata": {},
   "outputs": [],
   "source": [
    "df1 = pd.read_csv(\"train.csv\")\n",
    "df2 = pd.read_csv(\"test.csv\")\n",
    "if 'Fertilizer Name' not in df2.columns:\n",
    "    df2['Fertilizer Name'] = 0\n",
    "\n",
    "data = pd.concat([df1, df2], axis=0)\n",
    "data = data.set_index(\"id\")"
   ]
  },
  {
   "cell_type": "code",
   "execution_count": 3,
   "id": "1436c0b8-dede-410e-a72e-66b3453083b7",
   "metadata": {},
   "outputs": [],
   "source": [
    "df2 = pd.read_csv(\"test.csv\")\n",
    "test_ids = df2['id'].copy() "
   ]
  },
  {
   "cell_type": "code",
   "execution_count": 4,
   "id": "776cbc02-0449-4776-86f9-5e45583d7670",
   "metadata": {},
   "outputs": [],
   "source": [
    "soil_mapping = {'Black': 1, 'Clayey': 2, 'Loamy': 3, 'Red': 4, 'Sandy': 5}\n",
    "crop_mapping = {'Barley': 1, 'Cotton': 2, 'Ground Nuts': 3, 'Maize': 4, 'Millets': 5,\n",
    "                'Oil seeds': 6, 'Paddy': 7, 'Pulses': 8, 'Sugarcane': 9, 'Tobacco': 10, 'Wheat': 11}\n",
    "\n",
    "data['Soil Type'] = data['Soil Type'].map(soil_mapping)\n",
    "data['Crop Type'] = data['Crop Type'].map(crop_mapping)"
   ]
  },
  {
   "cell_type": "code",
   "execution_count": 5,
   "id": "d371b5cd-fedf-4a75-aa86-c3597a8b0130",
   "metadata": {},
   "outputs": [],
   "source": [
    "#normalising nitrogen, phosphorous and pottasium levels\n",
    "from sklearn.preprocessing import MinMaxScaler\n",
    "scaler = MinMaxScaler()\n",
    "data[['Nitrogen', 'Phosphorous', 'Potassium']] = scaler.fit_transform(\n",
    "    data[['Nitrogen', 'Phosphorous', 'Potassium']]\n",
    ")"
   ]
  },
  {
   "cell_type": "code",
   "execution_count": 6,
   "id": "8aaf5c22-067b-4775-a17e-cadedf4b7dc0",
   "metadata": {},
   "outputs": [],
   "source": [
    "data[\"N_to_P\"] = data[\"Nitrogen\"] / (data[\"Phosphorous\"] + 1)\n",
    "data[\"N_to_K\"] = data[\"Nitrogen\"] / (data[\"Potassium\"] + 1)\n",
    "data[\"P_to_K\"] = data[\"Phosphorous\"] / (data[\"Potassium\"] + 1)\n",
    "data[\"total_NPK\"] = data[\"Nitrogen\"] + data[\"Phosphorous\"] + data[\"Potassium\"]"
   ]
  },
  {
   "cell_type": "code",
   "execution_count": 7,
   "id": "4a63c2ad-bcdc-45d9-b5c2-fb31434565e3",
   "metadata": {},
   "outputs": [],
   "source": [
    "data[\"Phosphorous_log\"] = np.log1p(data[\"Phosphorous\"])"
   ]
  },
  {
   "cell_type": "code",
   "execution_count": 8,
   "id": "d24dff05-67c8-491b-bca4-5dad180b0e32",
   "metadata": {},
   "outputs": [],
   "source": [
    "# Re-split\n",
    "df1 = data.loc[df1.index]\n",
    "df2 = data.loc[df2.index]"
   ]
  },
  {
   "cell_type": "code",
   "execution_count": 22,
   "id": "52813372-f88b-4a42-abfb-e9fcb6186403",
   "metadata": {},
   "outputs": [],
   "source": [
    "le = LabelEncoder()\n",
    "y = le.fit_transform(df1['Fertilizer Name'])\n",
    "\n",
    "orig = df1.copy()\n",
    "\n",
    "X = df1.drop('Fertilizer Name', axis=1)\n",
    "X_train, X_test, y_train, y_test = train_test_split(X, y, test_size=0.2, random_state=42)"
   ]
  },
  {
   "cell_type": "code",
   "execution_count": 30,
   "id": "5b6bd6dd-03f7-4602-9724-af87ca787e22",
   "metadata": {},
   "outputs": [],
   "source": [
    "X_train['sample_weight'] = 1\n",
    "orig['sample_weight'] = 5 \n",
    "\n",
    "X_full = pd.concat([\n",
    "    X_train.drop('sample_weight', axis=1),\n",
    "    orig.drop(['sample_weight', 'Fertilizer Name'], axis=1)  #drop target\n",
    "])\n",
    "\n",
    "y_full = pd.concat([\n",
    "    pd.Series(y_train, index=X_train.index),\n",
    "    pd.Series(le.transform(orig['Fertilizer Name']), index=orig.index)\n",
    "])"
   ]
  },
  {
   "cell_type": "code",
   "execution_count": 31,
   "id": "d16aa368-435f-4dda-932c-5eee410b11d4",
   "metadata": {},
   "outputs": [],
   "source": [
    "from sklearn.utils import compute_class_weight\n",
    "weights = pd.concat([X_train['sample_weight'], orig['sample_weight']])\n",
    "class_weights_dict = dict(zip(np.unique(y), weights))\n",
    "\n",
    "categorical_features = ['Soil Type', 'Crop Type']\n",
    "\n",
    "model = CatBoostClassifier(\n",
    "    iterations=1000,\n",
    "    learning_rate=0.03,\n",
    "    depth=8,\n",
    "    random_strength=2,\n",
    "    l2_leaf_reg=5,\n",
    "    loss_function='MultiClass',\n",
    "    eval_metric='TotalF1',\n",
    "    cat_features=categorical_features,\n",
    "    verbose=100,\n",
    "    random_state=42\n",
    ")"
   ]
  },
  {
   "cell_type": "code",
   "execution_count": 32,
   "id": "4dd24642-12ff-4d1c-91c8-61fd66f617c7",
   "metadata": {},
   "outputs": [
    {
     "name": "stdout",
     "output_type": "stream",
     "text": [
      "0:\tlearn: 0.0901999\ttotal: 6.17s\tremaining: 1h 42m 46s\n",
      "100:\tlearn: 0.1137053\ttotal: 11m 1s\tremaining: 1h 38m 4s\n",
      "200:\tlearn: 0.1332871\ttotal: 25m 24s\tremaining: 1h 40m 59s\n",
      "300:\tlearn: 0.1421879\ttotal: 39m 34s\tremaining: 1h 31m 53s\n",
      "400:\tlearn: 0.1480330\ttotal: 53m\tremaining: 1h 19m 11s\n",
      "500:\tlearn: 0.1561354\ttotal: 1h 7m 31s\tremaining: 1h 7m 15s\n",
      "600:\tlearn: 0.1728593\ttotal: 1h 25m 52s\tremaining: 57m\n",
      "700:\tlearn: 0.1852220\ttotal: 1h 43m 3s\tremaining: 43m 57s\n",
      "800:\tlearn: 0.1945601\ttotal: 1h 56m 57s\tremaining: 29m 3s\n",
      "900:\tlearn: 0.2022866\ttotal: 2h 10m 9s\tremaining: 14m 18s\n",
      "999:\tlearn: 0.2091652\ttotal: 2h 24m 9s\tremaining: 0us\n"
     ]
    },
    {
     "data": {
      "text/plain": [
       "<catboost.core.CatBoostClassifier at 0x14f020e4d70>"
      ]
     },
     "execution_count": 32,
     "metadata": {},
     "output_type": "execute_result"
    }
   ],
   "source": [
    "model.fit(X_full, y_full, sample_weight=weights)"
   ]
  },
  {
   "cell_type": "code",
   "execution_count": 33,
   "id": "d6b8f883-5880-498b-a9a0-8406cbe807d5",
   "metadata": {},
   "outputs": [
    {
     "name": "stdout",
     "output_type": "stream",
     "text": [
      "MAP@3 Score (CatBoost): 0.3513\n"
     ]
    }
   ],
   "source": [
    "y_pred_proba = model.predict_proba(X_test)\n",
    "\n",
    "def map_at_3(y_true, y_pred_proba):\n",
    "    top_3 = np.argsort(y_pred_proba, axis=1)[:, -3:][:, ::-1]\n",
    "    map_score = 0.0\n",
    "    for i in range(len(y_true)):\n",
    "        true_label = y_true[i]\n",
    "        predicted = top_3[i]\n",
    "        if true_label in predicted:\n",
    "            rank = np.where(predicted == true_label)[0][0] + 1\n",
    "            map_score += 1 / rank\n",
    "    return map_score / len(y_true)\n",
    "\n",
    "map3_score = map_at_3(y_test, y_pred_proba)\n",
    "print(f\"MAP@3 Score (CatBoost): {map3_score:.4f}\")"
   ]
  },
  {
   "cell_type": "code",
   "execution_count": 34,
   "id": "877607f7-a6b5-4721-924d-404daf21c8fc",
   "metadata": {},
   "outputs": [],
   "source": [
    "test_features = df2.drop('Fertilizer Name', axis=1)\n",
    "pred_proba = model.predict_proba(test_features)\n",
    "top_3_indices = np.argsort(pred_proba, axis=1)[:, -3:][:, ::-1]\n",
    "top_3_labels = model.classes_[top_3_indices]  # these are encoded ints\n",
    "\n",
    "decoded_labels = le.inverse_transform(top_3_labels.flatten()).reshape(top_3_labels.shape)\n",
    "\n",
    "submission_preds = [' '.join(row) for row in decoded_labels]\n",
    "\n",
    "submission = pd.DataFrame({\n",
    "    'id': test_ids,mn  \n",
    "    'Fertilizer Name': submission_preds\n",
    "})\n",
    "\n",
    "submission.to_csv(\"submission.csv\", index=False)"
   ]
  },
  {
   "cell_type": "code",
   "execution_count": null,
   "id": "8d58ddd6-e63e-40e1-9f28-5ad8590e3043",
   "metadata": {
    "scrolled": true
   },
   "outputs": [],
   "source": [
    "# Plot confusion matrix\n",
    "\n",
    "from sklearn.metrics import confusion_matrix, ConfusionMatrixDisplay\n",
    "\n",
    "y_pred_raw = model.predict(X_test)\n",
    "y_pred = le.transform(y_pred_raw)  \n",
    "\n",
    "cm = confusion_matrix(y_test, y_pred, labels=np.unique(y_test))\n",
    "disp = ConfusionMatrixDisplay(confusion_matrix=cm, display_labels=le.classes_)\n",
    "disp.plot(xticks_rotation=45)"
   ]
  },
  {
   "cell_type": "code",
   "execution_count": null,
   "id": "7bd8c837-526e-4ef9-adcf-ce2cf4f7f602",
   "metadata": {},
   "outputs": [],
   "source": [
    "#model predicts well for 14-35-14, 17-17-17, 28-28\n",
    "#Urea and DAP are harder to distinguish"
   ]
  },
  {
   "cell_type": "code",
   "execution_count": null,
   "id": "3a560eff-9707-42d9-9c21-6d669ca58044",
   "metadata": {},
   "outputs": [],
   "source": [
    "if hasattr(y_test, 'values'):\n",
    "    y_test_array = y_test.values.ravel()\n",
    "else:\n",
    "    y_test_array = np.ravel(y_test)\n",
    "\n",
    "y_pred_flat = np.ravel(y_pred_raw)\n",
    "y_test_decoded_flat = np.ravel(y_test_decoded)\n",
    "\n",
    "misclassified = y_pred_flat != y_test_decoded_flat\n",
    "for i in np.where(misclassified)[0][:10]:\n",
    "    true_label = y_test_decoded[i]\n",
    "    pred_label = y_pred_raw[i]\n",
    "    print(f\"Row {i} | True: {true_label} | Pred: {pred_label} | Features: {X_test.iloc[i].to_dict()}\")\n"
   ]
  },
  {
   "cell_type": "code",
   "execution_count": null,
   "id": "b9d72844-5c1d-409b-9643-0956a3cf8c26",
   "metadata": {},
   "outputs": [],
   "source": [
    "#Many misclassifications are between fertilizers with similar NPK profiles, model is confusing similar formulas\n",
    "#Model isnt handling extremes well either. Changes added : addition of derived ratios; transforming highly skewed features; using class weights parameter"
   ]
  }
 ],
 "metadata": {
  "kernelspec": {
   "display_name": "Python 3 (ipykernel)",
   "language": "python",
   "name": "python3"
  },
  "language_info": {
   "codemirror_mode": {
    "name": "ipython",
    "version": 3
   },
   "file_extension": ".py",
   "mimetype": "text/x-python",
   "name": "python",
   "nbconvert_exporter": "python",
   "pygments_lexer": "ipython3",
   "version": "3.12.4"
  }
 },
 "nbformat": 4,
 "nbformat_minor": 5
}
